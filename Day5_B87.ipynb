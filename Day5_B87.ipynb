{
 "cells": [
  {
   "cell_type": "code",
   "execution_count": null,
   "id": "ef6d1bd3-554f-44f8-b668-56d162a9526f",
   "metadata": {},
   "outputs": [],
   "source": [
    "continuation with list datatype :"
   ]
  },
  {
   "cell_type": "code",
   "execution_count": null,
   "id": "43aac1c0-c9d7-4920-9226-d37dc776cb32",
   "metadata": {},
   "outputs": [],
   "source": [
    "Organising the list datatype : "
   ]
  },
  {
   "cell_type": "code",
   "execution_count": null,
   "id": "13680b7b-6398-4ae4-889e-a7a7c2b741aa",
   "metadata": {},
   "outputs": [],
   "source": []
  },
  {
   "cell_type": "code",
   "execution_count": 6,
   "id": "ecea9878-4e4a-4bec-b1bc-3b24ef8215bd",
   "metadata": {},
   "outputs": [],
   "source": [
    "cars = ['benz','maruthi','audi','suzuki','bmw','kia']"
   ]
  },
  {
   "cell_type": "code",
   "execution_count": 8,
   "id": "24e2e475-549a-4761-82f6-3af8a9a0c31e",
   "metadata": {},
   "outputs": [
    {
     "name": "stdout",
     "output_type": "stream",
     "text": [
      "['benz', 'maruthi', 'audi', 'suzuki', 'bmw', 'kia']\n"
     ]
    }
   ],
   "source": [
    "print(cars)"
   ]
  },
  {
   "cell_type": "code",
   "execution_count": null,
   "id": "6904edc0-2515-4873-88e5-e92326422312",
   "metadata": {},
   "outputs": [],
   "source": [
    "#req : i want to organise the list in A - Z order"
   ]
  },
  {
   "cell_type": "code",
   "execution_count": null,
   "id": "33019b86-5c5c-4a95-ac7e-6761f1253bbc",
   "metadata": {},
   "outputs": [],
   "source": [
    "1. temp approach =============> sorted method ====> we can have the original list order maintained.\n",
    "\n",
    "2. Permanent approach ========> sort method ====> we will not be having the original order --- changes are applied permanently."
   ]
  },
  {
   "cell_type": "code",
   "execution_count": null,
   "id": "32bb42e1-2570-4908-93a8-07d76179442d",
   "metadata": {},
   "outputs": [],
   "source": []
  },
  {
   "cell_type": "code",
   "execution_count": 10,
   "id": "3637c729-bcbc-4b5f-bfea-da7929d0cfb2",
   "metadata": {},
   "outputs": [
    {
     "name": "stdout",
     "output_type": "stream",
     "text": [
      "['audi', 'benz', 'bmw', 'kia', 'maruthi', 'suzuki']\n"
     ]
    }
   ],
   "source": [
    "print(sorted(cars))   # A, B, B, K, M, S"
   ]
  },
  {
   "cell_type": "code",
   "execution_count": null,
   "id": "50934739-b597-47b4-9e01-ae10c5369bae",
   "metadata": {},
   "outputs": [],
   "source": [
    "#benz and bmw =====> B, B .... E, M ===> E"
   ]
  },
  {
   "cell_type": "code",
   "execution_count": 12,
   "id": "4834c416-7d0e-4f86-9c67-f416804f64f9",
   "metadata": {},
   "outputs": [
    {
     "name": "stdout",
     "output_type": "stream",
     "text": [
      "['benz', 'maruthi', 'audi', 'suzuki', 'bmw', 'kia']\n"
     ]
    }
   ],
   "source": [
    "print(cars)  # we are getting the original order intact.....!"
   ]
  },
  {
   "cell_type": "code",
   "execution_count": null,
   "id": "bd10c1e1-f5e6-4feb-ba64-f950aaf11eef",
   "metadata": {},
   "outputs": [],
   "source": []
  },
  {
   "cell_type": "code",
   "execution_count": 14,
   "id": "dbe691e5-7cce-45aa-8150-c16abe42185b",
   "metadata": {},
   "outputs": [],
   "source": [
    "cars.sort()"
   ]
  },
  {
   "cell_type": "code",
   "execution_count": 16,
   "id": "495c976a-d015-4fa0-85ec-085376a283a3",
   "metadata": {},
   "outputs": [
    {
     "name": "stdout",
     "output_type": "stream",
     "text": [
      "['audi', 'benz', 'bmw', 'kia', 'maruthi', 'suzuki']\n"
     ]
    }
   ],
   "source": [
    "print(cars)"
   ]
  },
  {
   "cell_type": "code",
   "execution_count": 18,
   "id": "fd145dc6-87d7-4dc6-984d-6a09086805b3",
   "metadata": {},
   "outputs": [
    {
     "name": "stdout",
     "output_type": "stream",
     "text": [
      "['audi', 'benz', 'bmw', 'kia', 'maruthi', 'suzuki']\n"
     ]
    }
   ],
   "source": [
    "print(cars)"
   ]
  },
  {
   "cell_type": "code",
   "execution_count": null,
   "id": "e27d8725-c81f-47fd-b91c-05293261adf2",
   "metadata": {},
   "outputs": [],
   "source": []
  },
  {
   "cell_type": "code",
   "execution_count": null,
   "id": "e09967e1-c029-409d-a95a-039ba14502b8",
   "metadata": {},
   "outputs": [],
   "source": [
    "interview_question : what is difference between sorted and sort method in the list datatype....?**"
   ]
  },
  {
   "cell_type": "code",
   "execution_count": null,
   "id": "33a43dbc-fe37-476e-a347-b9441de51fcb",
   "metadata": {},
   "outputs": [],
   "source": []
  },
  {
   "cell_type": "code",
   "execution_count": null,
   "id": "897cfa2e-fd3d-4b0a-86dd-50b2254e896e",
   "metadata": {},
   "outputs": [],
   "source": [
    "#req : i wnat to print the list in the reverse order...!"
   ]
  },
  {
   "cell_type": "code",
   "execution_count": 22,
   "id": "6806c716-45a8-418d-a094-55bcab15b6d4",
   "metadata": {},
   "outputs": [],
   "source": [
    "cars.reverse()"
   ]
  },
  {
   "cell_type": "code",
   "execution_count": 24,
   "id": "df0a918c-7f62-4822-be59-829cfd4e290f",
   "metadata": {},
   "outputs": [
    {
     "name": "stdout",
     "output_type": "stream",
     "text": [
      "['suzuki', 'maruthi', 'kia', 'bmw', 'benz', 'audi']\n"
     ]
    }
   ],
   "source": [
    "print(cars)"
   ]
  },
  {
   "cell_type": "code",
   "execution_count": 26,
   "id": "673b4501-3946-49a0-9760-09bf6fcae675",
   "metadata": {},
   "outputs": [
    {
     "name": "stdout",
     "output_type": "stream",
     "text": [
      "['suzuki', 'maruthi', 'kia', 'bmw', 'benz', 'audi']\n"
     ]
    }
   ],
   "source": [
    "print(cars)"
   ]
  },
  {
   "cell_type": "code",
   "execution_count": 28,
   "id": "f8ab6498-dfc2-4f43-a4cf-29a7f9080693",
   "metadata": {},
   "outputs": [],
   "source": [
    "#req : i want to know the total count of elements"
   ]
  },
  {
   "cell_type": "code",
   "execution_count": 32,
   "id": "4763466f-2dcb-4966-a289-09d91b8b6024",
   "metadata": {},
   "outputs": [
    {
     "data": {
      "text/plain": [
       "6"
      ]
     },
     "execution_count": 32,
     "metadata": {},
     "output_type": "execute_result"
    }
   ],
   "source": [
    "len(cars)"
   ]
  },
  {
   "cell_type": "code",
   "execution_count": null,
   "id": "d9aca632-2187-4d77-8abb-852b1402f14c",
   "metadata": {},
   "outputs": [],
   "source": []
  },
  {
   "cell_type": "code",
   "execution_count": null,
   "id": "caae9653-e82c-40a9-aa11-faa6c6ffc1f6",
   "metadata": {},
   "outputs": [],
   "source": [
    "Slicing the list :"
   ]
  },
  {
   "cell_type": "code",
   "execution_count": null,
   "id": "11a7eac1-d9aa-45dc-ae5b-090901358920",
   "metadata": {},
   "outputs": [],
   "source": []
  },
  {
   "cell_type": "code",
   "execution_count": 34,
   "id": "f6cd0e4a-0b8c-499e-8ce6-755ff611b5ba",
   "metadata": {},
   "outputs": [],
   "source": [
    "students = ['aditi','naveen','saima','keerthi','nouman','joseph']"
   ]
  },
  {
   "cell_type": "code",
   "execution_count": 36,
   "id": "02d42fe8-eb36-4fdd-9bf1-a972d1704d09",
   "metadata": {},
   "outputs": [
    {
     "name": "stdout",
     "output_type": "stream",
     "text": [
      "['aditi', 'naveen', 'saima', 'keerthi', 'nouman', 'joseph']\n"
     ]
    }
   ],
   "source": [
    "print(students)"
   ]
  },
  {
   "cell_type": "code",
   "execution_count": 38,
   "id": "aa6bbfce-f340-4576-a2f9-8e850606acec",
   "metadata": {},
   "outputs": [
    {
     "data": {
      "text/plain": [
       "list"
      ]
     },
     "execution_count": 38,
     "metadata": {},
     "output_type": "execute_result"
    }
   ],
   "source": [
    "type(students)"
   ]
  },
  {
   "cell_type": "code",
   "execution_count": null,
   "id": "6fda0f90-4a53-4dda-9dcf-2348c2d2ef62",
   "metadata": {},
   "outputs": [],
   "source": [
    "# General syntaxof slicing"
   ]
  },
  {
   "cell_type": "code",
   "execution_count": null,
   "id": "63a0f82d-84e0-4989-a4e0-99cccfce31c1",
   "metadata": {},
   "outputs": [],
   "source": [
    "[start_value:stop_value:step_count]"
   ]
  },
  {
   "cell_type": "code",
   "execution_count": null,
   "id": "083e7a9d-a18f-4d4d-82cb-32add4b8bf83",
   "metadata": {},
   "outputs": [],
   "source": [
    "Note_point : stop_value is always exclusive, to include the stop value we have to increment the index by +1."
   ]
  },
  {
   "cell_type": "code",
   "execution_count": null,
   "id": "b218c299-4942-40e9-8225-eae9a08fb593",
   "metadata": {},
   "outputs": [],
   "source": [
    "#req : i want aditi and naveen in the output. "
   ]
  },
  {
   "cell_type": "code",
   "execution_count": 42,
   "id": "b4e908ba-76d7-4af4-86e9-bee4b071fd50",
   "metadata": {},
   "outputs": [
    {
     "name": "stdout",
     "output_type": "stream",
     "text": [
      "['aditi']\n"
     ]
    }
   ],
   "source": [
    "print(students[0:1])"
   ]
  },
  {
   "cell_type": "code",
   "execution_count": 44,
   "id": "470ac2f8-e5fe-4347-bef9-bc22f71cb860",
   "metadata": {},
   "outputs": [
    {
     "name": "stdout",
     "output_type": "stream",
     "text": [
      "['aditi', 'naveen']\n"
     ]
    }
   ],
   "source": [
    "print(students[0:2])"
   ]
  },
  {
   "cell_type": "code",
   "execution_count": null,
   "id": "906266ce-33b8-463e-962b-e34fa547b9b6",
   "metadata": {},
   "outputs": [],
   "source": [
    "#req : i want saima and keerthi in the output."
   ]
  },
  {
   "cell_type": "code",
   "execution_count": 46,
   "id": "d1e3278a-22d2-4d48-90c8-20a5ae705062",
   "metadata": {},
   "outputs": [
    {
     "name": "stdout",
     "output_type": "stream",
     "text": [
      "['saima', 'keerthi']\n"
     ]
    }
   ],
   "source": [
    "print(students[2:4]) "
   ]
  },
  {
   "cell_type": "code",
   "execution_count": null,
   "id": "9ed0da9f-5323-4186-9165-c73c264c2d63",
   "metadata": {},
   "outputs": [],
   "source": [
    "# req : i want nouman and joseph in the output."
   ]
  },
  {
   "cell_type": "code",
   "execution_count": 48,
   "id": "37294248-60fb-40c8-9b34-b64499fc4440",
   "metadata": {},
   "outputs": [
    {
     "name": "stdout",
     "output_type": "stream",
     "text": [
      "['nouman', 'joseph']\n"
     ]
    }
   ],
   "source": [
    "print(students[4:6])"
   ]
  },
  {
   "cell_type": "code",
   "execution_count": null,
   "id": "81aefa4d-f03d-4d13-a210-1d0b36fd2070",
   "metadata": {},
   "outputs": [],
   "source": [
    "# req : i want aditi, saima and nouman in the output."
   ]
  },
  {
   "cell_type": "code",
   "execution_count": 50,
   "id": "3730efd5-b2f8-4950-83ff-12cd0839b723",
   "metadata": {},
   "outputs": [
    {
     "name": "stdout",
     "output_type": "stream",
     "text": [
      "['aditi', 'saima', 'nouman']\n"
     ]
    }
   ],
   "source": [
    "print(students[0:6:2])"
   ]
  },
  {
   "cell_type": "code",
   "execution_count": 52,
   "id": "0f3e2983-160c-4c5d-b44f-d6a08c89972a",
   "metadata": {},
   "outputs": [
    {
     "name": "stdout",
     "output_type": "stream",
     "text": [
      "['aditi', 'naveen', 'saima', 'keerthi', 'nouman', 'joseph']\n"
     ]
    }
   ],
   "source": [
    "print(students)"
   ]
  },
  {
   "cell_type": "code",
   "execution_count": 56,
   "id": "f2486ef8-60ab-462c-99aa-480627963eae",
   "metadata": {},
   "outputs": [
    {
     "name": "stdout",
     "output_type": "stream",
     "text": [
      "['aditi', 'keerthi']\n"
     ]
    }
   ],
   "source": [
    "print(students[0:6:3])"
   ]
  },
  {
   "cell_type": "code",
   "execution_count": null,
   "id": "4ead3798-e8cc-4ec6-b7f1-7ab600a3ea21",
   "metadata": {},
   "outputs": [],
   "source": []
  }
 ],
 "metadata": {
  "kernelspec": {
   "display_name": "Python 3 (ipykernel)",
   "language": "python",
   "name": "python3"
  },
  "language_info": {
   "codemirror_mode": {
    "name": "ipython",
    "version": 3
   },
   "file_extension": ".py",
   "mimetype": "text/x-python",
   "name": "python",
   "nbconvert_exporter": "python",
   "pygments_lexer": "ipython3",
   "version": "3.12.4"
  }
 },
 "nbformat": 4,
 "nbformat_minor": 5
}

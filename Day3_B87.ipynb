{
 "cells": [
  {
   "cell_type": "code",
   "execution_count": null,
   "id": "464f912f-e62b-4d57-b8a9-e71ef828e3dd",
   "metadata": {},
   "outputs": [],
   "source": [
    "continuation with the string datatype :"
   ]
  },
  {
   "cell_type": "code",
   "execution_count": null,
   "id": "74895a24-dcad-4020-938d-e28a7fd8a10d",
   "metadata": {},
   "outputs": [],
   "source": []
  },
  {
   "cell_type": "code",
   "execution_count": null,
   "id": "92b8d838-eb39-4ce0-8bf6-ca2082425d9a",
   "metadata": {},
   "outputs": [],
   "source": [
    "firstname = 'ravi'\n",
    "lastname ='kumar'"
   ]
  },
  {
   "cell_type": "code",
   "execution_count": null,
   "id": "ad6e07fe-a531-4cd4-b2a2-5b6936d7b9bd",
   "metadata": {},
   "outputs": [],
   "source": [
    "#req : i want to get the full name....?"
   ]
  },
  {
   "cell_type": "code",
   "execution_count": null,
   "id": "d54503af-540e-48aa-8c68-c23c1fdfbe1f",
   "metadata": {},
   "outputs": [],
   "source": []
  },
  {
   "cell_type": "code",
   "execution_count": null,
   "id": "56581643-cf19-4494-86a8-cc3771f6e5c6",
   "metadata": {},
   "outputs": [],
   "source": [
    "Introduction to f strings :"
   ]
  },
  {
   "cell_type": "code",
   "execution_count": null,
   "id": "3f0b2084-27fb-489c-8530-d6488e3301e7",
   "metadata": {},
   "outputs": [],
   "source": [
    "#general syntax of f strings"
   ]
  },
  {
   "cell_type": "code",
   "execution_count": null,
   "id": "482beed4-8edf-435a-912d-b86c924a0e55",
   "metadata": {},
   "outputs": [],
   "source": [
    "f\" custom message {placeholder1} {placeholder2}......{placeholder..n}\""
   ]
  },
  {
   "cell_type": "code",
   "execution_count": null,
   "id": "6acab967-6451-4a3d-9931-112b08f66013",
   "metadata": {},
   "outputs": [],
   "source": []
  },
  {
   "cell_type": "code",
   "execution_count": 58,
   "id": "544f6d81-c2ee-4a74-a611-394f488aa002",
   "metadata": {},
   "outputs": [
    {
     "name": "stdout",
     "output_type": "stream",
     "text": [
      "ravi kumar\n"
     ]
    }
   ],
   "source": [
    "fullname = f\"{firstname} {lastname}\"\n",
    "\n",
    "print(fullname)"
   ]
  },
  {
   "cell_type": "code",
   "execution_count": 60,
   "id": "38cc8607-8360-4341-a422-b3952347ba4e",
   "metadata": {},
   "outputs": [
    {
     "name": "stdout",
     "output_type": "stream",
     "text": [
      "Ravi Kumar\n"
     ]
    }
   ],
   "source": [
    "print(fullname.title())"
   ]
  },
  {
   "cell_type": "code",
   "execution_count": 62,
   "id": "b6282359-a304-4e26-be19-f6cdff0f1057",
   "metadata": {},
   "outputs": [
    {
     "name": "stdout",
     "output_type": "stream",
     "text": [
      "keep up the good work ravi kumar\n"
     ]
    }
   ],
   "source": [
    "message = f\"keep up the good work {fullname}\"\n",
    "\n",
    "print(message)"
   ]
  },
  {
   "cell_type": "code",
   "execution_count": 40,
   "id": "2facb4bc-2610-4048-aacd-ec37dd86ccc7",
   "metadata": {},
   "outputs": [
    {
     "name": "stdout",
     "output_type": "stream",
     "text": [
      "keep up the work Ravi Kumar\n"
     ]
    }
   ],
   "source": [
    "message = f\"keep up the work {fullname.title()}\"\n",
    "\n",
    "print(message)"
   ]
  },
  {
   "cell_type": "code",
   "execution_count": null,
   "id": "f2095616-1b77-4742-b6fe-0105123282c3",
   "metadata": {},
   "outputs": [],
   "source": []
  },
  {
   "cell_type": "code",
   "execution_count": null,
   "id": "80a76af4-a8b0-460f-95d9-926ec23da9b2",
   "metadata": {},
   "outputs": [],
   "source": [
    "Adding whitespaces to strings :"
   ]
  },
  {
   "cell_type": "code",
   "execution_count": 42,
   "id": "485ca33b-275d-4ce5-8b7a-ae4c0c052a75",
   "metadata": {},
   "outputs": [
    {
     "name": "stdout",
     "output_type": "stream",
     "text": [
      "favourite_prog_language:pythonjavac++swiftreactcpascel\n"
     ]
    }
   ],
   "source": [
    "print(\"favourite_prog_language:pythonjavac++swiftreactcpascel\")"
   ]
  },
  {
   "cell_type": "code",
   "execution_count": 44,
   "id": "d6ad418e-f87f-4d76-b228-049c219a0b2c",
   "metadata": {},
   "outputs": [
    {
     "name": "stdout",
     "output_type": "stream",
     "text": [
      "favourite_prog_language:\n",
      "python\n",
      "java\n",
      "c++\n",
      "swift\n",
      "react\n",
      "c\n",
      "pascel\n"
     ]
    }
   ],
   "source": [
    "print(\"favourite_prog_language:\\npython\\njava\\nc++\\nswift\\nreact\\nc\\npascel\")  # \\n---> new line delimiter"
   ]
  },
  {
   "cell_type": "code",
   "execution_count": 46,
   "id": "eaa86958-9eb0-44dc-ba87-3aa95d0c1eac",
   "metadata": {},
   "outputs": [
    {
     "name": "stdout",
     "output_type": "stream",
     "text": [
      "favourite_prog_language:\n",
      "\tpython\n",
      "\tjava\n",
      "\tc++\n",
      "\tswift\n",
      "\treact\n",
      "\tc\n",
      "\tpascel\n"
     ]
    }
   ],
   "source": [
    "print(\"favourite_prog_language:\\n\\tpython\\n\\tjava\\n\\tc++\\n\\tswift\\n\\treact\\n\\tc\\n\\tpascel\")  #\\t---> tab delimiter"
   ]
  },
  {
   "cell_type": "code",
   "execution_count": null,
   "id": "14b788f5-9c46-4d1d-95db-0f6eaaaad163",
   "metadata": {},
   "outputs": [],
   "source": [
    "Removing whitespaces from the string :"
   ]
  },
  {
   "cell_type": "code",
   "execution_count": 48,
   "id": "7ca5be3d-a970-4175-b3fd-b7d6f40322da",
   "metadata": {},
   "outputs": [
    {
     "name": "stdout",
     "output_type": "stream",
     "text": [
      "python\n"
     ]
    }
   ],
   "source": [
    "name = 'python'  # no gap\n",
    "\n",
    "print(name)"
   ]
  },
  {
   "cell_type": "code",
   "execution_count": 50,
   "id": "9526b00f-298b-4ed3-8f48-a51fde440220",
   "metadata": {},
   "outputs": [
    {
     "name": "stdout",
     "output_type": "stream",
     "text": [
      "   python\n"
     ]
    }
   ],
   "source": [
    "name2 = '   python'   # gap on the left side\n",
    "\n",
    "print(name2)"
   ]
  },
  {
   "cell_type": "code",
   "execution_count": 52,
   "id": "1f5f27a9-6bea-4ce9-80a5-a981b357c30a",
   "metadata": {},
   "outputs": [
    {
     "name": "stdout",
     "output_type": "stream",
     "text": [
      "python   \n"
     ]
    }
   ],
   "source": [
    "name3 = 'python   '   # gap on the right side\n",
    "\n",
    "print(name3)"
   ]
  },
  {
   "cell_type": "code",
   "execution_count": null,
   "id": "c2bbb300-ecba-464d-99de-c881c644a6b2",
   "metadata": {},
   "outputs": [],
   "source": [
    "Strip method"
   ]
  },
  {
   "cell_type": "code",
   "execution_count": 54,
   "id": "5950032d-8b1b-4111-897c-061e3ff04bbb",
   "metadata": {},
   "outputs": [
    {
     "data": {
      "text/plain": [
       "'python'"
      ]
     },
     "execution_count": 54,
     "metadata": {},
     "output_type": "execute_result"
    }
   ],
   "source": [
    "name2.strip()"
   ]
  },
  {
   "cell_type": "code",
   "execution_count": 56,
   "id": "195387b6-810d-4166-bf9d-0751db8f0e54",
   "metadata": {},
   "outputs": [
    {
     "data": {
      "text/plain": [
       "'python'"
      ]
     },
     "execution_count": 56,
     "metadata": {},
     "output_type": "execute_result"
    }
   ],
   "source": [
    "name3.strip()"
   ]
  },
  {
   "cell_type": "code",
   "execution_count": null,
   "id": "25e2f273-5a80-4468-8aa9-60331a4b4c85",
   "metadata": {},
   "outputs": [],
   "source": []
  },
  {
   "cell_type": "code",
   "execution_count": null,
   "id": "1dc6a9b7-a054-4c6b-8346-3427e3102d66",
   "metadata": {},
   "outputs": [],
   "source": []
  },
  {
   "cell_type": "code",
   "execution_count": null,
   "id": "9223c94a-6399-4968-8306-2f70c6932d60",
   "metadata": {},
   "outputs": [],
   "source": []
  }
 ],
 "metadata": {
  "kernelspec": {
   "display_name": "Python 3 (ipykernel)",
   "language": "python",
   "name": "python3"
  },
  "language_info": {
   "codemirror_mode": {
    "name": "ipython",
    "version": 3
   },
   "file_extension": ".py",
   "mimetype": "text/x-python",
   "name": "python",
   "nbconvert_exporter": "python",
   "pygments_lexer": "ipython3",
   "version": "3.12.4"
  }
 },
 "nbformat": 4,
 "nbformat_minor": 5
}

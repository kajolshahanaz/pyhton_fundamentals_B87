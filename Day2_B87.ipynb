{
 "cells": [
  {
   "cell_type": "code",
   "execution_count": null,
   "id": "562632da-ee01-4a87-aad1-a7c79fef726a",
   "metadata": {},
   "outputs": [],
   "source": [
    "Introduction to Datatypes  :\n",
    "\n",
    "1. Strings ====> str\n",
    "\n",
    "2. Numbers ====> integers (int) and floats (decimals) 0.1,0.2,1.5\n",
    "\n",
    "3. List ====> list\n",
    "\n",
    "4. Tuples ====> tuple\n",
    "\n",
    "5. Dictionaries ====> dict"
   ]
  },
  {
   "cell_type": "code",
   "execution_count": null,
   "id": "328b9686-1703-4a16-b360-855a50c181fb",
   "metadata": {},
   "outputs": [],
   "source": []
  },
  {
   "cell_type": "code",
   "execution_count": null,
   "id": "66d8b8d9-acf0-4867-8157-ab600e85198a",
   "metadata": {},
   "outputs": [],
   "source": [
    "Classification of datatypes :\n",
    "\n",
    "Broadly datatypes are classifed into two categories :\n",
    "\n",
    "1. mutable datatypes ====> which we can be able to edit / alter ====> flexible in nature\n",
    "\n",
    "2. immutable datatypes ====> which we cannot be able to edit / alter ====> fixed in nature"
   ]
  },
  {
   "cell_type": "code",
   "execution_count": null,
   "id": "607afa8e-c033-4774-8f94-8288e5c3acc8",
   "metadata": {},
   "outputs": [],
   "source": []
  },
  {
   "cell_type": "code",
   "execution_count": null,
   "id": "64876377-95d9-42b8-9de0-61cdb79fd58d",
   "metadata": {},
   "outputs": [],
   "source": [
    "Note : python is case sensitive programming language"
   ]
  },
  {
   "cell_type": "code",
   "execution_count": null,
   "id": "471e18af-7e87-4ea5-9960-9f8799a97c63",
   "metadata": {},
   "outputs": [],
   "source": []
  },
  {
   "cell_type": "code",
   "execution_count": null,
   "id": "016fa3a4-1dba-474e-b953-45d07b72184d",
   "metadata": {},
   "outputs": [],
   "source": [
    "Introduction to string datatypes :\n",
    "\n",
    "Defination : A String is a series of characters declared in quotes.\n",
    "\n",
    "Classification : It is classified as an immutable datatype\n",
    "\n",
    "1. single quote ====> ''\n",
    "\n",
    "2. double quotes ====> \"\""
   ]
  },
  {
   "cell_type": "code",
   "execution_count": null,
   "id": "0602b682-9dea-4ae0-a149-fc44f6366447",
   "metadata": {},
   "outputs": [],
   "source": []
  },
  {
   "cell_type": "code",
   "execution_count": 1,
   "id": "5b808c08-b63d-4f02-bdb3-0f32e58a7b89",
   "metadata": {},
   "outputs": [
    {
     "name": "stdout",
     "output_type": "stream",
     "text": [
      "raj\n"
     ]
    }
   ],
   "source": [
    "name = 'raj'  # single quote\n",
    "\n",
    "print(name)"
   ]
  },
  {
   "cell_type": "code",
   "execution_count": 3,
   "id": "30b79da4-c0d7-4eb0-b95a-6f4595e7fba4",
   "metadata": {},
   "outputs": [
    {
     "name": "stdout",
     "output_type": "stream",
     "text": [
      "tej\n"
     ]
    }
   ],
   "source": [
    "name2 = \"tej\"  #double quotes\n",
    "\n",
    "print(name2)"
   ]
  },
  {
   "cell_type": "code",
   "execution_count": null,
   "id": "e00ffed9-4e3f-4e60-a252-9c2fc83f8051",
   "metadata": {},
   "outputs": [],
   "source": [
    "# is used for commenting the code"
   ]
  },
  {
   "cell_type": "code",
   "execution_count": 5,
   "id": "f208bc66-f1ab-4c88-878b-d97cd8bff053",
   "metadata": {},
   "outputs": [
    {
     "ename": "SyntaxError",
     "evalue": "invalid syntax (2037045353.py, line 1)",
     "output_type": "error",
     "traceback": [
      "\u001b[1;36m  Cell \u001b[1;32mIn[5], line 1\u001b[1;36m\u001b[0m\n\u001b[1;33m    name2 = \"tej\"  double quotes\u001b[0m\n\u001b[1;37m                   ^\u001b[0m\n\u001b[1;31mSyntaxError\u001b[0m\u001b[1;31m:\u001b[0m invalid syntax\n"
     ]
    }
   ],
   "source": [
    "name2 = \"tej\"  double quotes\n",
    "\n",
    "print(name2)"
   ]
  },
  {
   "cell_type": "code",
   "execution_count": null,
   "id": "ba517cc8-23a2-4c8c-b043-7b30a6a3ed48",
   "metadata": {},
   "outputs": [],
   "source": []
  },
  {
   "cell_type": "code",
   "execution_count": null,
   "id": "844f1914-a380-4c6d-8ce4-0b321bedb355",
   "metadata": {},
   "outputs": [],
   "source": [
    "Introduction to string methods :"
   ]
  },
  {
   "cell_type": "code",
   "execution_count": 11,
   "id": "5d07b483-b6c8-4a5a-ad01-cc4041a70714",
   "metadata": {},
   "outputs": [
    {
     "data": {
      "text/plain": [
       "str"
      ]
     },
     "execution_count": 11,
     "metadata": {},
     "output_type": "execute_result"
    }
   ],
   "source": [
    "type(name)"
   ]
  },
  {
   "cell_type": "code",
   "execution_count": 13,
   "id": "0769d042-c5bb-4ff7-9972-f167b1fbaced",
   "metadata": {},
   "outputs": [
    {
     "data": {
      "text/plain": [
       "str"
      ]
     },
     "execution_count": 13,
     "metadata": {},
     "output_type": "execute_result"
    }
   ],
   "source": [
    "type(name2)"
   ]
  },
  {
   "cell_type": "code",
   "execution_count": null,
   "id": "1a8a5312-8358-4979-b18c-146c7c852604",
   "metadata": {},
   "outputs": [],
   "source": [
    "type methods is used to verify and validate what kind of datatype it is."
   ]
  },
  {
   "cell_type": "code",
   "execution_count": 15,
   "id": "7e93d35e-e240-47ce-878b-2fe7ac56e035",
   "metadata": {},
   "outputs": [
    {
     "name": "stdout",
     "output_type": "stream",
     "text": [
      "kajol shahanaz\n"
     ]
    }
   ],
   "source": [
    "fullname = 'kajol shahanaz'\n",
    "\n",
    "print(fullname)"
   ]
  },
  {
   "cell_type": "code",
   "execution_count": 17,
   "id": "1d26c5ce-2bef-4698-9e21-04b744d039cf",
   "metadata": {},
   "outputs": [
    {
     "name": "stdout",
     "output_type": "stream",
     "text": [
      "Kajol Shahanaz\n"
     ]
    }
   ],
   "source": [
    "print(fullname.title())"
   ]
  },
  {
   "cell_type": "code",
   "execution_count": null,
   "id": "a6ebc9fc-457a-425a-b2c9-f0b53669bd51",
   "metadata": {},
   "outputs": [],
   "source": [
    "# requirement : i want the entire name in capitals"
   ]
  },
  {
   "cell_type": "code",
   "execution_count": 19,
   "id": "7382e1d6-7b11-426d-9dd8-ae01fd32b27e",
   "metadata": {},
   "outputs": [
    {
     "name": "stdout",
     "output_type": "stream",
     "text": [
      "KAJOL SHAHANAZ\n"
     ]
    }
   ],
   "source": [
    "print(fullname.upper())"
   ]
  },
  {
   "cell_type": "code",
   "execution_count": null,
   "id": "1813a403-54f7-45a5-a785-46942da059cf",
   "metadata": {},
   "outputs": [],
   "source": [
    "# req : i want the entire name in smallcase letters"
   ]
  },
  {
   "cell_type": "code",
   "execution_count": 21,
   "id": "212193e3-cd42-44d9-8601-45cac8805628",
   "metadata": {},
   "outputs": [
    {
     "name": "stdout",
     "output_type": "stream",
     "text": [
      "kajol shahanaz\n"
     ]
    }
   ],
   "source": [
    "print(fullname.lower())"
   ]
  },
  {
   "cell_type": "code",
   "execution_count": null,
   "id": "dc17cd91-f6de-48aa-8b56-2e90cf0abd69",
   "metadata": {},
   "outputs": [],
   "source": []
  }
 ],
 "metadata": {
  "kernelspec": {
   "display_name": "Python 3 (ipykernel)",
   "language": "python",
   "name": "python3"
  },
  "language_info": {
   "codemirror_mode": {
    "name": "ipython",
    "version": 3
   },
   "file_extension": ".py",
   "mimetype": "text/x-python",
   "name": "python",
   "nbconvert_exporter": "python",
   "pygments_lexer": "ipython3",
   "version": "3.12.4"
  }
 },
 "nbformat": 4,
 "nbformat_minor": 5
}

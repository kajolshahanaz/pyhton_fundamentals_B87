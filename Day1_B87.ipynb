{
 "cells": [
  {
   "cell_type": "code",
   "execution_count": 1,
   "id": "04620f2b-0eef-4d9e-8c04-9eb38d665dca",
   "metadata": {},
   "outputs": [
    {
     "name": "stdout",
     "output_type": "stream",
     "text": [
      "Hello all welcome to the python programing world!\n"
     ]
    }
   ],
   "source": [
    "print(\"Hello all welcome to the python programing world!\")"
   ]
  },
  {
   "cell_type": "code",
   "execution_count": 2,
   "id": "45697762-b7b9-4f28-ba31-d588db275cdc",
   "metadata": {},
   "outputs": [
    {
     "name": "stdout",
     "output_type": "stream",
     "text": [
      "My first python programing code\n"
     ]
    }
   ],
   "source": [
    "print(\"My first python programing code\")"
   ]
  },
  {
   "cell_type": "code",
   "execution_count": null,
   "id": "4588f141-fc88-4566-9432-f786ef2fe5d5",
   "metadata": {},
   "outputs": [],
   "source": []
  }
 ],
 "metadata": {
  "kernelspec": {
   "display_name": "Python 3 (ipykernel)",
   "language": "python",
   "name": "python3"
  },
  "language_info": {
   "codemirror_mode": {
    "name": "ipython",
    "version": 3
   },
   "file_extension": ".py",
   "mimetype": "text/x-python",
   "name": "python",
   "nbconvert_exporter": "python",
   "pygments_lexer": "ipython3",
   "version": "3.12.4"
  }
 },
 "nbformat": 4,
 "nbformat_minor": 5
}

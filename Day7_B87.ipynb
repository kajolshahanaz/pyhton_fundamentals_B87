{
 "cells": [
  {
   "cell_type": "code",
   "execution_count": null,
   "id": "613c644f-be28-48d9-96d0-48d9d4ea4f28",
   "metadata": {},
   "outputs": [],
   "source": [
    "Introduction to tuple datatype : "
   ]
  },
  {
   "cell_type": "code",
   "execution_count": null,
   "id": "c5c09c58-1dc5-4f7b-ba28-3c59fa3bedea",
   "metadata": {},
   "outputs": [],
   "source": [
    "Defination : An immutable list is called as a tuple.\n",
    "\n",
    "Classification : It is classified as a immutable datatype\n",
    "\n",
    "How to define the tuple datatype ----> ( )"
   ]
  },
  {
   "cell_type": "code",
   "execution_count": null,
   "id": "30bfacc3-7ff5-4e20-ae79-2d428e32c892",
   "metadata": {},
   "outputs": [],
   "source": []
  },
  {
   "cell_type": "code",
   "execution_count": 1,
   "id": "c20ea1ed-49cd-48ea-a9c6-d6ea1be3bee9",
   "metadata": {},
   "outputs": [
    {
     "name": "stdout",
     "output_type": "stream",
     "text": [
      "(100, 150)\n"
     ]
    }
   ],
   "source": [
    "dimensions = (100, 150)\n",
    "\n",
    "print(dimensions)"
   ]
  },
  {
   "cell_type": "code",
   "execution_count": 5,
   "id": "a138bce1-8895-4f3d-9e62-cf9d3e48c2e6",
   "metadata": {},
   "outputs": [
    {
     "data": {
      "text/plain": [
       "tuple"
      ]
     },
     "execution_count": 5,
     "metadata": {},
     "output_type": "execute_result"
    }
   ],
   "source": [
    "type(dimensions)"
   ]
  },
  {
   "cell_type": "code",
   "execution_count": null,
   "id": "677b2172-30cc-4a23-802c-6ce7161531dd",
   "metadata": {},
   "outputs": [],
   "source": [
    "#req : i want to change 100 ----> 200"
   ]
  },
  {
   "cell_type": "code",
   "execution_count": 7,
   "id": "e2a72002-4320-47b7-8bcf-b10659c3c4d4",
   "metadata": {},
   "outputs": [
    {
     "ename": "TypeError",
     "evalue": "'tuple' object does not support item assignment",
     "output_type": "error",
     "traceback": [
      "\u001b[1;31m---------------------------------------------------------------------------\u001b[0m",
      "\u001b[1;31mTypeError\u001b[0m                                 Traceback (most recent call last)",
      "Cell \u001b[1;32mIn[7], line 1\u001b[0m\n\u001b[1;32m----> 1\u001b[0m dimensions[\u001b[38;5;241m0\u001b[39m] \u001b[38;5;241m=\u001b[39m \u001b[38;5;241m200\u001b[39m\n",
      "\u001b[1;31mTypeError\u001b[0m: 'tuple' object does not support item assignment"
     ]
    }
   ],
   "source": [
    "dimensions[0] = 200"
   ]
  },
  {
   "cell_type": "code",
   "execution_count": 9,
   "id": "d144cb49-8aae-41f5-8f0e-894cd08543b6",
   "metadata": {},
   "outputs": [],
   "source": [
    "students = ('naveen','vaideki','parveen','sushma')"
   ]
  },
  {
   "cell_type": "code",
   "execution_count": 11,
   "id": "05a7282b-e23a-49f3-95a4-63eba91dbbed",
   "metadata": {},
   "outputs": [
    {
     "name": "stdout",
     "output_type": "stream",
     "text": [
      "('naveen', 'vaideki', 'parveen', 'sushma')\n"
     ]
    }
   ],
   "source": [
    "print(students)"
   ]
  },
  {
   "cell_type": "code",
   "execution_count": 13,
   "id": "82623dd9-363e-4b2d-a8d5-e8b80a5c1845",
   "metadata": {},
   "outputs": [
    {
     "data": {
      "text/plain": [
       "tuple"
      ]
     },
     "execution_count": 13,
     "metadata": {},
     "output_type": "execute_result"
    }
   ],
   "source": [
    "type(students)"
   ]
  },
  {
   "cell_type": "code",
   "execution_count": 15,
   "id": "6471e4cf-7ba8-4c8f-9758-3c01cd71f29b",
   "metadata": {},
   "outputs": [
    {
     "name": "stdout",
     "output_type": "stream",
     "text": [
      "naveen\n",
      "vaideki\n",
      "parveen\n",
      "sushma\n"
     ]
    }
   ],
   "source": [
    "for x in students :\n",
    "    print(x)"
   ]
  },
  {
   "cell_type": "code",
   "execution_count": null,
   "id": "0f675f03-efab-4c04-9048-75fb49c2e5c0",
   "metadata": {},
   "outputs": [],
   "source": []
  },
  {
   "cell_type": "code",
   "execution_count": null,
   "id": "31f2a596-73fa-4299-aa63-8c88696f8503",
   "metadata": {},
   "outputs": [],
   "source": [
    "Introduction to dictionaries :"
   ]
  },
  {
   "cell_type": "code",
   "execution_count": null,
   "id": "32367936-0983-4858-96ee-d4394c0c5927",
   "metadata": {},
   "outputs": [],
   "source": [
    "Defination : A dict is a combination of key value pairs\n",
    "\n",
    "Classification :  It is classified as a mutable datatype\n",
    "\n",
    "How to define the dictionary ----> { }"
   ]
  },
  {
   "cell_type": "code",
   "execution_count": null,
   "id": "0028b4a3-ceb5-4bbe-893e-3e84a766ea82",
   "metadata": {},
   "outputs": [],
   "source": []
  },
  {
   "cell_type": "code",
   "execution_count": null,
   "id": "f1068433-f6c8-4ed1-95be-bb447c2ce814",
   "metadata": {},
   "outputs": [],
   "source": [
    "#req : i want to create a alien game"
   ]
  },
  {
   "cell_type": "code",
   "execution_count": 17,
   "id": "0078eabf-04a0-4103-85f2-085345ac32e0",
   "metadata": {},
   "outputs": [],
   "source": [
    "alien = {'color':'green','points':10}"
   ]
  },
  {
   "cell_type": "code",
   "execution_count": 19,
   "id": "cc6d4c02-570b-460d-9004-c788128d951f",
   "metadata": {},
   "outputs": [
    {
     "name": "stdout",
     "output_type": "stream",
     "text": [
      "{'color': 'green', 'points': 10}\n"
     ]
    }
   ],
   "source": [
    "print(alien)"
   ]
  },
  {
   "cell_type": "code",
   "execution_count": 21,
   "id": "fe21b993-d4c6-463d-83f0-2cd636230f32",
   "metadata": {},
   "outputs": [
    {
     "data": {
      "text/plain": [
       "dict"
      ]
     },
     "execution_count": 21,
     "metadata": {},
     "output_type": "execute_result"
    }
   ],
   "source": [
    "type(alien)"
   ]
  },
  {
   "cell_type": "code",
   "execution_count": null,
   "id": "38ea5225-19c1-4f0c-928a-e767bdd9ebb1",
   "metadata": {},
   "outputs": [],
   "source": [
    "#req : how to add new key value pairs to the dictionary"
   ]
  },
  {
   "cell_type": "code",
   "execution_count": null,
   "id": "f6fa233b-e78a-4902-b794-a5cb52d97bd0",
   "metadata": {},
   "outputs": [],
   "source": [
    "# start_position : level 0"
   ]
  },
  {
   "cell_type": "code",
   "execution_count": 23,
   "id": "bc3f0239-792f-4b1f-9954-07272c9812c7",
   "metadata": {},
   "outputs": [],
   "source": [
    "alien['start_position'] = 'level0'"
   ]
  },
  {
   "cell_type": "code",
   "execution_count": 25,
   "id": "48b06656-02a0-4bd2-9c1f-0572c30ab945",
   "metadata": {},
   "outputs": [
    {
     "name": "stdout",
     "output_type": "stream",
     "text": [
      "{'color': 'green', 'points': 10, 'start_position': 'level0'}\n"
     ]
    }
   ],
   "source": [
    "print(alien)"
   ]
  },
  {
   "cell_type": "code",
   "execution_count": null,
   "id": "fbc2c0c9-dbb4-44dd-ab76-7aa40cb242e9",
   "metadata": {},
   "outputs": [],
   "source": [
    "Note : Keys will be acting as a index point in the dictionary"
   ]
  },
  {
   "cell_type": "code",
   "execution_count": null,
   "id": "fb621ef7-d185-4de1-b8e8-0b24f5655241",
   "metadata": {},
   "outputs": [],
   "source": []
  },
  {
   "cell_type": "code",
   "execution_count": null,
   "id": "454ecb25-0770-4c6f-a4ed-c9929b7d3295",
   "metadata": {},
   "outputs": [],
   "source": [
    "#req : i want to add current_position : level - 1"
   ]
  },
  {
   "cell_type": "code",
   "execution_count": 28,
   "id": "0ec4f9a2-7207-4e78-be3a-dbdaa42117f3",
   "metadata": {},
   "outputs": [],
   "source": [
    "alien ['current_position'] = 'level - 1'"
   ]
  },
  {
   "cell_type": "code",
   "execution_count": 30,
   "id": "3a7c8de4-7e4a-49c4-a8f3-df0844c303d4",
   "metadata": {},
   "outputs": [
    {
     "name": "stdout",
     "output_type": "stream",
     "text": [
      "{'color': 'green', 'points': 10, 'start_position': 'level0', 'current_position': 'level - 1'}\n"
     ]
    }
   ],
   "source": [
    "print(alien)"
   ]
  },
  {
   "cell_type": "code",
   "execution_count": 34,
   "id": "96abe1b8-1674-4969-aced-abf5d9ce8dc6",
   "metadata": {},
   "outputs": [
    {
     "data": {
      "text/plain": [
       "10"
      ]
     },
     "execution_count": 34,
     "metadata": {},
     "output_type": "execute_result"
    }
   ],
   "source": [
    "alien['points']"
   ]
  },
  {
   "cell_type": "code",
   "execution_count": null,
   "id": "79c9f4d9-d1d9-4bf4-8039-2add4f009f43",
   "metadata": {},
   "outputs": [],
   "source": [
    "Note : Give the key and get the value"
   ]
  },
  {
   "cell_type": "code",
   "execution_count": null,
   "id": "2aba1376-f7b3-4935-b164-bcd799d72a12",
   "metadata": {},
   "outputs": [],
   "source": [
    "#req : can we get the key by iving the value....?"
   ]
  },
  {
   "cell_type": "code",
   "execution_count": 36,
   "id": "cdbdb378-29a5-46fc-b360-da4a44d14064",
   "metadata": {},
   "outputs": [
    {
     "ename": "KeyError",
     "evalue": "'green'",
     "output_type": "error",
     "traceback": [
      "\u001b[1;31m---------------------------------------------------------------------------\u001b[0m",
      "\u001b[1;31mKeyError\u001b[0m                                  Traceback (most recent call last)",
      "Cell \u001b[1;32mIn[36], line 1\u001b[0m\n\u001b[1;32m----> 1\u001b[0m alien[\u001b[38;5;124m'\u001b[39m\u001b[38;5;124mgreen\u001b[39m\u001b[38;5;124m'\u001b[39m]\n",
      "\u001b[1;31mKeyError\u001b[0m: 'green'"
     ]
    }
   ],
   "source": [
    "alien['green']"
   ]
  },
  {
   "cell_type": "code",
   "execution_count": null,
   "id": "b43aae0b-724b-413a-af10-02ac1a431169",
   "metadata": {},
   "outputs": [],
   "source": []
  },
  {
   "cell_type": "code",
   "execution_count": null,
   "id": "dc1ff64b-fcdc-4aa5-8d62-25a591c4b9a2",
   "metadata": {},
   "outputs": [],
   "source": [
    "Implementation of for loop on the dictionary :"
   ]
  },
  {
   "cell_type": "code",
   "execution_count": null,
   "id": "3cae17d4-9861-4230-950b-40a8f6456373",
   "metadata": {},
   "outputs": [],
   "source": [
    "# general syntax"
   ]
  },
  {
   "cell_type": "code",
   "execution_count": null,
   "id": "b975bb31-b9e5-455c-8b25-3eaa61cdd35d",
   "metadata": {},
   "outputs": [],
   "source": [
    "for tempvar1, tempvar in mainvar.items() :\n",
    "    print(tempvar1)\n",
    "    print(tempvar2)"
   ]
  },
  {
   "cell_type": "code",
   "execution_count": 40,
   "id": "d21590ca-6400-40db-a455-e38139380e83",
   "metadata": {},
   "outputs": [
    {
     "name": "stdout",
     "output_type": "stream",
     "text": [
      "{'color': 'green', 'points': 10, 'start_position': 'level0', 'current_position': 'level - 1'}\n"
     ]
    }
   ],
   "source": [
    "print(alien)"
   ]
  },
  {
   "cell_type": "code",
   "execution_count": 46,
   "id": "d84f7f72-017a-46aa-ac31-549673956d40",
   "metadata": {},
   "outputs": [
    {
     "name": "stdout",
     "output_type": "stream",
     "text": [
      "color\n",
      "green\n",
      "points\n",
      "10\n",
      "start_position\n",
      "level0\n",
      "current_position\n",
      "level - 1\n"
     ]
    }
   ],
   "source": [
    "for k,v in alien.items():\n",
    "    print(k)\n",
    "    print(v)"
   ]
  },
  {
   "cell_type": "code",
   "execution_count": null,
   "id": "4c5e2638-db1b-4123-90b7-c518362081f3",
   "metadata": {},
   "outputs": [],
   "source": []
  }
 ],
 "metadata": {
  "kernelspec": {
   "display_name": "Python 3 (ipykernel)",
   "language": "python",
   "name": "python3"
  },
  "language_info": {
   "codemirror_mode": {
    "name": "ipython",
    "version": 3
   },
   "file_extension": ".py",
   "mimetype": "text/x-python",
   "name": "python",
   "nbconvert_exporter": "python",
   "pygments_lexer": "ipython3",
   "version": "3.12.4"
  }
 },
 "nbformat": 4,
 "nbformat_minor": 5
}

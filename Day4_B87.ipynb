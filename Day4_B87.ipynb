{
 "cells": [
  {
   "cell_type": "code",
   "execution_count": null,
   "id": "17d48385-b069-400e-90e3-acb220c225c1",
   "metadata": {},
   "outputs": [],
   "source": [
    "Introduction to list datatype : "
   ]
  },
  {
   "cell_type": "code",
   "execution_count": null,
   "id": "88936d4c-1f33-4bfa-b2cf-8a5aec855cb5",
   "metadata": {},
   "outputs": [],
   "source": [
    "Defination : A list is a collection of items declared in a particular order.\n",
    "\n",
    "Classification : It is classified as an mutable datatype.\n",
    "\n",
    "How to declare the list ------=> [] "
   ]
  },
  {
   "cell_type": "code",
   "execution_count": null,
   "id": "2821e252-79f8-4f80-9289-e1d3662f66a6",
   "metadata": {},
   "outputs": [],
   "source": []
  },
  {
   "cell_type": "code",
   "execution_count": 3,
   "id": "30666228-5c85-4743-a5b0-8f521b6f9e67",
   "metadata": {},
   "outputs": [],
   "source": [
    "students = ['saima','keerthi','naveen','kalyan','sajith','praveen']  # 0,1,2,3,4,5"
   ]
  },
  {
   "cell_type": "code",
   "execution_count": 5,
   "id": "5e36310a-3e28-43cd-b2e3-4365224b61d9",
   "metadata": {},
   "outputs": [
    {
     "name": "stdout",
     "output_type": "stream",
     "text": [
      "['saima', 'keerthi', 'naveen', 'kalyan', 'sajith', 'praveen']\n"
     ]
    }
   ],
   "source": [
    "print(students)"
   ]
  },
  {
   "cell_type": "code",
   "execution_count": 9,
   "id": "56133703-006e-4e88-8e5e-e8227e40d508",
   "metadata": {},
   "outputs": [
    {
     "data": {
      "text/plain": [
       "list"
      ]
     },
     "execution_count": 9,
     "metadata": {},
     "output_type": "execute_result"
    }
   ],
   "source": [
    "type(students)"
   ]
  },
  {
   "cell_type": "code",
   "execution_count": null,
   "id": "9d377b89-6c59-4c65-b719-759841dfd8ff",
   "metadata": {},
   "outputs": [],
   "source": []
  },
  {
   "cell_type": "code",
   "execution_count": null,
   "id": "05b00dd3-feb4-4d54-b191-58c6701a7c94",
   "metadata": {},
   "outputs": [],
   "source": [
    "Introduction to indexation : 0,1,2,3,4,.....,n"
   ]
  },
  {
   "cell_type": "code",
   "execution_count": null,
   "id": "21f75447-217c-4e92-9ff0-ad75d87a4020",
   "metadata": {},
   "outputs": [],
   "source": [
    "#req : i want to access keerhi name in the output...?"
   ]
  },
  {
   "cell_type": "code",
   "execution_count": 11,
   "id": "9a6cf2fe-bc46-4df4-8981-3c0895786eb9",
   "metadata": {},
   "outputs": [
    {
     "name": "stdout",
     "output_type": "stream",
     "text": [
      "keerthi\n"
     ]
    }
   ],
   "source": [
    "print(students[1])"
   ]
  },
  {
   "cell_type": "code",
   "execution_count": 13,
   "id": "8a87f4a8-df60-4be5-81d1-d50ae23f551b",
   "metadata": {},
   "outputs": [
    {
     "name": "stdout",
     "output_type": "stream",
     "text": [
      "Keerthi\n"
     ]
    }
   ],
   "source": [
    "print(students[1].title())"
   ]
  },
  {
   "cell_type": "code",
   "execution_count": null,
   "id": "33219169-aa9e-4990-ab44-34e5ba415c23",
   "metadata": {},
   "outputs": [],
   "source": [
    "#req : i want to access kalyan name in the oytput...?"
   ]
  },
  {
   "cell_type": "code",
   "execution_count": 15,
   "id": "609ba363-0cd8-47b2-9188-d01c4fe54647",
   "metadata": {},
   "outputs": [
    {
     "name": "stdout",
     "output_type": "stream",
     "text": [
      "Kalyan\n"
     ]
    }
   ],
   "source": [
    "print(students[3].title())"
   ]
  },
  {
   "cell_type": "code",
   "execution_count": null,
   "id": "3c315d2e-8579-4b28-918d-df5832fac57e",
   "metadata": {},
   "outputs": [],
   "source": [
    "1. how to add new elements in the list\n",
    "\n",
    "2. how to modify the elements in the list\n",
    "\n",
    "3. how to delete the elements in the list"
   ]
  },
  {
   "cell_type": "code",
   "execution_count": 17,
   "id": "f4d35376-8396-41ec-9ba3-e371c3006987",
   "metadata": {},
   "outputs": [
    {
     "name": "stdout",
     "output_type": "stream",
     "text": [
      "['saima', 'keerthi', 'naveen', 'kalyan', 'sajith', 'praveen']\n"
     ]
    }
   ],
   "source": [
    "print(students)"
   ]
  },
  {
   "cell_type": "code",
   "execution_count": null,
   "id": "a442acd2-dbbf-4a36-be7f-958bbf7e8413",
   "metadata": {},
   "outputs": [],
   "source": [
    "#req : i want to add adil to the above list..."
   ]
  },
  {
   "cell_type": "code",
   "execution_count": 21,
   "id": "47873018-37bf-42b4-8413-2e2777cace0a",
   "metadata": {},
   "outputs": [],
   "source": [
    "students.append('adil')"
   ]
  },
  {
   "cell_type": "code",
   "execution_count": 23,
   "id": "a24ad44f-b062-4afd-accc-b50a869d2761",
   "metadata": {},
   "outputs": [
    {
     "name": "stdout",
     "output_type": "stream",
     "text": [
      "['saima', 'keerthi', 'naveen', 'kalyan', 'sajith', 'praveen', 'adil']\n"
     ]
    }
   ],
   "source": [
    "print(students)"
   ]
  },
  {
   "cell_type": "code",
   "execution_count": null,
   "id": "769aa69f-1f08-4803-91b7-29f4b0bb2b67",
   "metadata": {},
   "outputs": [],
   "source": [
    "#req : i want to add suresh to the above list..."
   ]
  },
  {
   "cell_type": "code",
   "execution_count": 34,
   "id": "adb97df6-49b2-4d19-96f0-4daf5872e796",
   "metadata": {},
   "outputs": [],
   "source": [
    "students.append('suresh')"
   ]
  },
  {
   "cell_type": "code",
   "execution_count": 36,
   "id": "f8538639-4e44-47f6-ab14-d30c50dda17a",
   "metadata": {},
   "outputs": [
    {
     "name": "stdout",
     "output_type": "stream",
     "text": [
      "['saima', 'keerthi', 'naveen', 'kalyan', 'sajith', 'praveen', 'adil', 'suresh']\n"
     ]
    }
   ],
   "source": [
    "print(students)"
   ]
  },
  {
   "cell_type": "code",
   "execution_count": null,
   "id": "2706712e-0b0c-4154-99af-e2d063d1fd9d",
   "metadata": {},
   "outputs": [],
   "source": [
    "#req : i want to add neha at 2nd index..."
   ]
  },
  {
   "cell_type": "code",
   "execution_count": 38,
   "id": "57a42b52-9d9a-482f-9b73-1e012ddd2ef1",
   "metadata": {},
   "outputs": [],
   "source": [
    "students.insert(2,'neha')"
   ]
  },
  {
   "cell_type": "code",
   "execution_count": 40,
   "id": "dbdba936-fc81-4cec-83b6-676d19c6b134",
   "metadata": {},
   "outputs": [
    {
     "name": "stdout",
     "output_type": "stream",
     "text": [
      "['saima', 'keerthi', 'neha', 'naveen', 'kalyan', 'sajith', 'praveen', 'adil', 'suresh']\n"
     ]
    }
   ],
   "source": [
    "print(students)"
   ]
  },
  {
   "cell_type": "code",
   "execution_count": null,
   "id": "ca016492-67c6-404e-ab0d-0bc8694268a3",
   "metadata": {},
   "outputs": [],
   "source": [
    "interview_question : what is difference between append method and insert method in list datatype....can you please explain..? **"
   ]
  },
  {
   "cell_type": "code",
   "execution_count": 42,
   "id": "71b89ee3-7e35-4efe-bb6c-8c0a466ba779",
   "metadata": {},
   "outputs": [
    {
     "name": "stdout",
     "output_type": "stream",
     "text": [
      "['saima', 'keerthi', 'neha', 'naveen', 'kalyan', 'sajith', 'praveen', 'adil', 'suresh']\n"
     ]
    }
   ],
   "source": [
    "print(students)"
   ]
  },
  {
   "cell_type": "code",
   "execution_count": null,
   "id": "5104e884-cf3c-49e6-aa8a-4ecd019518ba",
   "metadata": {},
   "outputs": [],
   "source": [
    "#req : i want to modify keerthi name to kiran..."
   ]
  },
  {
   "cell_type": "code",
   "execution_count": 46,
   "id": "817d5d9a-7dc5-4b03-8c66-15a6b1dfe4d1",
   "metadata": {},
   "outputs": [],
   "source": [
    "students[1] = 'kiran'"
   ]
  },
  {
   "cell_type": "code",
   "execution_count": 48,
   "id": "82e3fd75-d33b-41d1-9d3d-7260db6ed372",
   "metadata": {},
   "outputs": [
    {
     "name": "stdout",
     "output_type": "stream",
     "text": [
      "['saima', 'kiran', 'neha', 'naveen', 'kalyan', 'sajith', 'praveen', 'adil', 'suresh']\n"
     ]
    }
   ],
   "source": [
    "print(students)"
   ]
  },
  {
   "cell_type": "code",
   "execution_count": null,
   "id": "0fc193c0-72f7-4cd6-bad5-df79a31cab10",
   "metadata": {},
   "outputs": [],
   "source": [
    "#req : i want to delete neha in the above list....?"
   ]
  },
  {
   "cell_type": "code",
   "execution_count": 50,
   "id": "45abbbce-a6c0-481e-9a36-dffa7d159360",
   "metadata": {},
   "outputs": [],
   "source": [
    "del students[2]"
   ]
  },
  {
   "cell_type": "code",
   "execution_count": 52,
   "id": "dfc2740e-0778-48b0-9939-00f2ee6d4ddd",
   "metadata": {},
   "outputs": [
    {
     "name": "stdout",
     "output_type": "stream",
     "text": [
      "['saima', 'kiran', 'naveen', 'kalyan', 'sajith', 'praveen', 'adil', 'suresh']\n"
     ]
    }
   ],
   "source": [
    "print(students)"
   ]
  },
  {
   "cell_type": "code",
   "execution_count": null,
   "id": "b0c2ab0c-65a5-4c1c-b19e-ebb992a1e755",
   "metadata": {},
   "outputs": [],
   "source": []
  },
  {
   "cell_type": "code",
   "execution_count": null,
   "id": "dd7192a3-c9de-4075-957a-4002c701e741",
   "metadata": {},
   "outputs": [],
   "source": [
    "Zen of python"
   ]
  },
  {
   "cell_type": "code",
   "execution_count": 54,
   "id": "50189160-45c5-4791-a1b7-1c645e0e185a",
   "metadata": {},
   "outputs": [
    {
     "name": "stdout",
     "output_type": "stream",
     "text": [
      "The Zen of Python, by Tim Peters\n",
      "\n",
      "Beautiful is better than ugly.\n",
      "Explicit is better than implicit.\n",
      "Simple is better than complex.\n",
      "Complex is better than complicated.\n",
      "Flat is better than nested.\n",
      "Sparse is better than dense.\n",
      "Readability counts.\n",
      "Special cases aren't special enough to break the rules.\n",
      "Although practicality beats purity.\n",
      "Errors should never pass silently.\n",
      "Unless explicitly silenced.\n",
      "In the face of ambiguity, refuse the temptation to guess.\n",
      "There should be one-- and preferably only one --obvious way to do it.\n",
      "Although that way may not be obvious at first unless you're Dutch.\n",
      "Now is better than never.\n",
      "Although never is often better than *right* now.\n",
      "If the implementation is hard to explain, it's a bad idea.\n",
      "If the implementation is easy to explain, it may be a good idea.\n",
      "Namespaces are one honking great idea -- let's do more of those!\n"
     ]
    }
   ],
   "source": [
    "import this"
   ]
  },
  {
   "cell_type": "code",
   "execution_count": null,
   "id": "5b5149fe-f142-4d02-abeb-036fb516cfec",
   "metadata": {},
   "outputs": [],
   "source": []
  }
 ],
 "metadata": {
  "kernelspec": {
   "display_name": "Python 3 (ipykernel)",
   "language": "python",
   "name": "python3"
  },
  "language_info": {
   "codemirror_mode": {
    "name": "ipython",
    "version": 3
   },
   "file_extension": ".py",
   "mimetype": "text/x-python",
   "name": "python",
   "nbconvert_exporter": "python",
   "pygments_lexer": "ipython3",
   "version": "3.12.4"
  }
 },
 "nbformat": 4,
 "nbformat_minor": 5
}

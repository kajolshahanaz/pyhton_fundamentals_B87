{
 "cells": [
  {
   "cell_type": "code",
   "execution_count": null,
   "id": "14b44bbf-8ba7-49d0-9df9-36c775403022",
   "metadata": {},
   "outputs": [],
   "source": [
    "continuation with list datatype :"
   ]
  },
  {
   "cell_type": "code",
   "execution_count": null,
   "id": "3f58ac83-1742-46ae-9204-01b6e3747d04",
   "metadata": {},
   "outputs": [],
   "source": [
    "Introduction to looping statements :"
   ]
  },
  {
   "cell_type": "code",
   "execution_count": null,
   "id": "5c420b22-b67a-48a4-97de-0a4ad8836c38",
   "metadata": {},
   "outputs": [],
   "source": [
    "Understanding the concepts of for loop : "
   ]
  },
  {
   "cell_type": "code",
   "execution_count": null,
   "id": "e180ec00-6804-446e-a762-1c23abaa772d",
   "metadata": {},
   "outputs": [],
   "source": []
  },
  {
   "cell_type": "code",
   "execution_count": 1,
   "id": "05d99461-7df9-4fc0-9f8a-53467edf3299",
   "metadata": {},
   "outputs": [],
   "source": [
    "students = ['naveen','amer','uday','sameer','anusha','bushra']"
   ]
  },
  {
   "cell_type": "code",
   "execution_count": 3,
   "id": "8cab549e-c675-4e3a-b635-20569a6d2302",
   "metadata": {},
   "outputs": [
    {
     "name": "stdout",
     "output_type": "stream",
     "text": [
      "['naveen', 'amer', 'uday', 'sameer', 'anusha', 'bushra']\n"
     ]
    }
   ],
   "source": [
    "print(students)"
   ]
  },
  {
   "cell_type": "code",
   "execution_count": 5,
   "id": "1ce85b19-df85-43c4-89ac-3ee979784bf2",
   "metadata": {},
   "outputs": [
    {
     "data": {
      "text/plain": [
       "list"
      ]
     },
     "execution_count": 5,
     "metadata": {},
     "output_type": "execute_result"
    }
   ],
   "source": [
    "type(students)"
   ]
  },
  {
   "cell_type": "code",
   "execution_count": null,
   "id": "5b5be258-5cf2-46d7-a610-5db5e6d52c3a",
   "metadata": {},
   "outputs": [],
   "source": [
    "# req : i want to appreciate the list of students mentioned above "
   ]
  },
  {
   "cell_type": "code",
   "execution_count": 9,
   "id": "e7b54b75-b36a-4b5f-8a1f-8a698660fd8f",
   "metadata": {},
   "outputs": [
    {
     "name": "stdout",
     "output_type": "stream",
     "text": [
      "keep up the good work, Naveen\n"
     ]
    }
   ],
   "source": [
    "print(f\"keep up the good work, {students[0].title()}\")"
   ]
  },
  {
   "cell_type": "code",
   "execution_count": null,
   "id": "d0bf2b1d-d899-4c17-ab4a-d9766292edf6",
   "metadata": {},
   "outputs": [],
   "source": [
    "# req : amer"
   ]
  },
  {
   "cell_type": "code",
   "execution_count": 11,
   "id": "b101cca5-99af-4aae-829f-2bfe43f9f1cf",
   "metadata": {},
   "outputs": [
    {
     "name": "stdout",
     "output_type": "stream",
     "text": [
      "keep up the good work, Amer\n"
     ]
    }
   ],
   "source": [
    "print(f\"keep up the good work, {students[1].title()}\")"
   ]
  },
  {
   "cell_type": "code",
   "execution_count": null,
   "id": "80c99a89-709f-470d-8ce1-00b495270735",
   "metadata": {},
   "outputs": [],
   "source": [
    "# General syntax of for loop :"
   ]
  },
  {
   "cell_type": "code",
   "execution_count": null,
   "id": "f36b460f-6a5a-48c5-a2fc-6e1d1b14a3e2",
   "metadata": {},
   "outputs": [],
   "source": [
    "for tempvar in mainver :\n",
    "    print(tempvar)"
   ]
  },
  {
   "cell_type": "code",
   "execution_count": 19,
   "id": "f425fa06-189f-47bb-ac02-e597dbaf675f",
   "metadata": {},
   "outputs": [
    {
     "name": "stdout",
     "output_type": "stream",
     "text": [
      "keep up the good work, Naveen\n",
      "keep up the good work, Amer\n",
      "keep up the good work, Uday\n",
      "keep up the good work, Sameer\n",
      "keep up the good work, Anusha\n",
      "keep up the good work, Bushra\n"
     ]
    }
   ],
   "source": [
    "for x in students :\n",
    "    print(f\"keep up the good work, {x.title()}\")"
   ]
  },
  {
   "cell_type": "code",
   "execution_count": 23,
   "id": "88dd90bb-dc6b-40c3-a5dd-a8feb2cf6489",
   "metadata": {},
   "outputs": [
    {
     "name": "stdout",
     "output_type": "stream",
     "text": [
      "naveen\n",
      "amer\n",
      "uday\n",
      "sameer\n",
      "anusha\n",
      "bushra\n"
     ]
    }
   ],
   "source": [
    "for ironman in students :\n",
    "    print(ironman)"
   ]
  },
  {
   "cell_type": "code",
   "execution_count": 25,
   "id": "bdca2c49-851a-4cd6-8dad-93902dc0239c",
   "metadata": {},
   "outputs": [
    {
     "name": "stdout",
     "output_type": "stream",
     "text": [
      "keep up the good work, Naveen\n",
      "do submit your work for today without fail, Naveen\n",
      "keep up the good work, Amer\n",
      "do submit your work for today without fail, Amer\n",
      "keep up the good work, Uday\n",
      "do submit your work for today without fail, Uday\n",
      "keep up the good work, Sameer\n",
      "do submit your work for today without fail, Sameer\n",
      "keep up the good work, Anusha\n",
      "do submit your work for today without fail, Anusha\n",
      "keep up the good work, Bushra\n",
      "do submit your work for today without fail, Bushra\n"
     ]
    }
   ],
   "source": [
    "for x in students :\n",
    "    print(f\"keep up the good work, {x.title()}\")\n",
    "    print(f\"do submit your work for today without fail, {x.title()}\")"
   ]
  },
  {
   "cell_type": "code",
   "execution_count": null,
   "id": "657052ee-16a0-4829-ad6e-c0c424fe9f87",
   "metadata": {},
   "outputs": [],
   "source": []
  },
  {
   "cell_type": "code",
   "execution_count": null,
   "id": "bd366809-6213-4a4f-ba3a-45f024a3f61a",
   "metadata": {},
   "outputs": [],
   "source": [
    "#enhancement of the code :"
   ]
  },
  {
   "cell_type": "code",
   "execution_count": null,
   "id": "db657407-ee99-40cb-a88b-e1a6f60cd2eb",
   "metadata": {},
   "outputs": [],
   "source": []
  },
  {
   "cell_type": "code",
   "execution_count": 29,
   "id": "aee278a1-80d8-42cc-a728-bde20dc614f1",
   "metadata": {},
   "outputs": [
    {
     "name": "stdout",
     "output_type": "stream",
     "text": [
      "keep up the good work, Naveen\n",
      "do submit your work for today without fail, Naveen\n",
      "\n",
      "keep up the good work, Amer\n",
      "do submit your work for today without fail, Amer\n",
      "\n",
      "keep up the good work, Uday\n",
      "do submit your work for today without fail, Uday\n",
      "\n",
      "keep up the good work, Sameer\n",
      "do submit your work for today without fail, Sameer\n",
      "\n",
      "keep up the good work, Anusha\n",
      "do submit your work for today without fail, Anusha\n",
      "\n",
      "keep up the good work, Bushra\n",
      "do submit your work for today without fail, Bushra\n",
      "\n"
     ]
    }
   ],
   "source": [
    "for x in students :\n",
    "    print(f\"keep up the good work, {x.title()}\")\n",
    "    print(f\"do submit your work for today without fail, {x.title()}\\n\")"
   ]
  },
  {
   "cell_type": "code",
   "execution_count": null,
   "id": "3149a53a-be13-4bce-afeb-5516594c9b08",
   "metadata": {},
   "outputs": [],
   "source": [
    "for tempvar in mainvar :    #indentation\n",
    "    print(tempvar)"
   ]
  },
  {
   "cell_type": "code",
   "execution_count": 35,
   "id": "2179ccae-9d9e-4d62-a342-7ba95d93a310",
   "metadata": {},
   "outputs": [
    {
     "ename": "IndentationError",
     "evalue": "expected an indented block after 'for' statement on line 1 (3240937953.py, line 2)",
     "output_type": "error",
     "traceback": [
      "\u001b[1;36m  Cell \u001b[1;32mIn[35], line 2\u001b[1;36m\u001b[0m\n\u001b[1;33m    print(ironman)\u001b[0m\n\u001b[1;37m    ^\u001b[0m\n\u001b[1;31mIndentationError\u001b[0m\u001b[1;31m:\u001b[0m expected an indented block after 'for' statement on line 1\n"
     ]
    }
   ],
   "source": [
    "for ironman in students :\n",
    "print(ironman)"
   ]
  },
  {
   "cell_type": "code",
   "execution_count": null,
   "id": "f6f3119d-b2a7-482c-ab07-f4ab53ed0b5c",
   "metadata": {},
   "outputs": [],
   "source": []
  },
  {
   "cell_type": "code",
   "execution_count": null,
   "id": "be10f556-9765-4fda-909e-f28948ff7378",
   "metadata": {},
   "outputs": [],
   "source": []
  },
  {
   "cell_type": "code",
   "execution_count": 37,
   "id": "b6927265-e17b-44c7-ab21-05b4cb40a737",
   "metadata": {},
   "outputs": [
    {
     "name": "stdout",
     "output_type": "stream",
     "text": [
      "keep up the good work, Naveen\n",
      "do submit your work for today without fail, Naveen\n",
      "\n",
      "Thank you for joining in the session\n",
      "keep up the good work, Amer\n",
      "do submit your work for today without fail, Amer\n",
      "\n",
      "Thank you for joining in the session\n",
      "keep up the good work, Uday\n",
      "do submit your work for today without fail, Uday\n",
      "\n",
      "Thank you for joining in the session\n",
      "keep up the good work, Sameer\n",
      "do submit your work for today without fail, Sameer\n",
      "\n",
      "Thank you for joining in the session\n",
      "keep up the good work, Anusha\n",
      "do submit your work for today without fail, Anusha\n",
      "\n",
      "Thank you for joining in the session\n",
      "keep up the good work, Bushra\n",
      "do submit your work for today without fail, Bushra\n",
      "\n",
      "Thank you for joining in the session\n"
     ]
    }
   ],
   "source": [
    "for x in students :\n",
    "    print(f\"keep up the good work, {x.title()}\") # writing in the loop---> it will be applied to all the elements in the list.\n",
    "    print(f\"do submit your work for today without fail, {x.title()}\\n\") # writing in the loop\n",
    "    print(f\"Thank you for joining in the session\") # writing out of the loop---> it is getting executed only time."
   ]
  },
  {
   "cell_type": "code",
   "execution_count": null,
   "id": "6d03cad9-a2ab-4362-b02d-7a695c783b63",
   "metadata": {},
   "outputs": [],
   "source": []
  },
  {
   "cell_type": "code",
   "execution_count": null,
   "id": "3ed76ece-b6f7-4ac3-8b89-81982776439b",
   "metadata": {},
   "outputs": [],
   "source": []
  },
  {
   "cell_type": "code",
   "execution_count": null,
   "id": "2812f9a6-be9d-4d94-8f13-353947ff44a1",
   "metadata": {},
   "outputs": [],
   "source": []
  },
  {
   "cell_type": "code",
   "execution_count": null,
   "id": "96d4bf20-4c24-4019-b4cb-d1460b689b99",
   "metadata": {},
   "outputs": [],
   "source": []
  }
 ],
 "metadata": {
  "kernelspec": {
   "display_name": "Python 3 (ipykernel)",
   "language": "python",
   "name": "python3"
  },
  "language_info": {
   "codemirror_mode": {
    "name": "ipython",
    "version": 3
   },
   "file_extension": ".py",
   "mimetype": "text/x-python",
   "name": "python",
   "nbconvert_exporter": "python",
   "pygments_lexer": "ipython3",
   "version": "3.12.4"
  }
 },
 "nbformat": 4,
 "nbformat_minor": 5
}
